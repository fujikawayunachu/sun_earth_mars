{
 "cells": [
  {
   "cell_type": "code",
   "execution_count": null,
   "id": "d90fa5a8",
   "metadata": {},
   "outputs": [
    {
     "data": {
      "text/html": [
       "<div id=\"glowscript\" class=\"glowscript\"></div>"
      ],
      "text/plain": [
       "<IPython.core.display.HTML object>"
      ]
     },
     "metadata": {},
     "output_type": "display_data"
    },
    {
     "data": {
      "application/javascript": [
       "if (typeof Jupyter !== \"undefined\") { window.__context = { glowscript_container: $(\"#glowscript\").removeAttr(\"id\")};}else{ element.textContent = ' ';}"
      ],
      "text/plain": [
       "<IPython.core.display.Javascript object>"
      ]
     },
     "metadata": {},
     "output_type": "display_data"
    },
    {
     "data": {
      "application/javascript": [
       "if (typeof Jupyter !== \"undefined\") {require.undef(\"nbextensions/vpython_libraries/glow.min\");}else{element.textContent = ' ';}"
      ],
      "text/plain": [
       "<IPython.core.display.Javascript object>"
      ]
     },
     "metadata": {},
     "output_type": "display_data"
    },
    {
     "data": {
      "application/javascript": [
       "if (typeof Jupyter !== \"undefined\") {require.undef(\"nbextensions/vpython_libraries/glowcomm\");}else{element.textContent = ' ';}"
      ],
      "text/plain": [
       "<IPython.core.display.Javascript object>"
      ]
     },
     "metadata": {},
     "output_type": "display_data"
    },
    {
     "data": {
      "application/javascript": [
       "if (typeof Jupyter !== \"undefined\") {require.undef(\"nbextensions/vpython_libraries/jquery-ui.custom.min\");}else{element.textContent = ' ';}"
      ],
      "text/plain": [
       "<IPython.core.display.Javascript object>"
      ]
     },
     "metadata": {},
     "output_type": "display_data"
    },
    {
     "data": {
      "application/javascript": [
       "if (typeof Jupyter !== \"undefined\") {require([\"nbextensions/vpython_libraries/glow.min\"], function(){console.log(\"GLOW LOADED\");});}else{element.textContent = ' ';}"
      ],
      "text/plain": [
       "<IPython.core.display.Javascript object>"
      ]
     },
     "metadata": {},
     "output_type": "display_data"
    },
    {
     "data": {
      "application/javascript": [
       "if (typeof Jupyter !== \"undefined\") {require([\"nbextensions/vpython_libraries/glowcomm\"], function(){console.log(\"GLOWCOMM LOADED\");});}else{element.textContent = ' ';}"
      ],
      "text/plain": [
       "<IPython.core.display.Javascript object>"
      ]
     },
     "metadata": {},
     "output_type": "display_data"
    },
    {
     "data": {
      "application/javascript": [
       "if (typeof Jupyter !== \"undefined\") {require([\"nbextensions/vpython_libraries/jquery-ui.custom.min\"], function(){console.log(\"JQUERY LOADED\");});}else{element.textContent = ' ';}"
      ],
      "text/plain": [
       "<IPython.core.display.Javascript object>"
      ]
     },
     "metadata": {},
     "output_type": "display_data"
    }
   ],
   "source": [
    "import vpython as vs\n",
    "import numpy as np\n",
    "import vpython as vs\n",
    "import time\n",
    "\n",
    "xzahyo =[]# 衛星の座標の軌跡をためておくリスト（ｘ座標\n",
    "yzahyo=[] #衛星の座標の軌跡をためておくリスト（ｙ座標\n",
    "\n",
    "xzahyo1 =[] ## 惑星の座標の軌跡をためておくリスト（ｘ座標\n",
    "yzahyo1=[]   #### 惑星の座標の軌跡をためておくリスト（ｙ座標\n",
    "def main():\n",
    "    # シーンの範囲\n",
    "    vs.scene.range = 20\n",
    "\n",
    "    # 箱のサイズ\n",
    "    l, h, w = 2, 2, 2\n",
    "\n",
    "    # 箱の中心位置\n",
    "#     x, y, z = 0, 0, 0\n",
    "\n",
    "    # 箱の定義\n",
    "    \n",
    "    s1 = vs.sphere(color=vs.vector(255,255,0),# 太陽の色情報　黄色　太陽\n",
    "                 pos=vs.vector(0,0,0),# 太陽最初の座標\n",
    "                 size=vs.vector(l,h, w),# 太陽最初のサイズ\n",
    "#                  axis=vs.vector(l, 0, 0)\n",
    "                 )\n",
    "    \n",
    "    \n",
    "    s2 = vs.sphere(color=vs.vector(0,0,255),# 地球の色情報　青　地球\n",
    "                 pos=vs.vector(0,10,0), #地球の最初の座標\n",
    "                 size=vs.vector(l,h, w),#地球のサイズ\n",
    "#                  axis=vs.vector(l, 0, 0)\n",
    "                 )\n",
    "    \n",
    "    \n",
    "    s3 = vs.sphere(color=vs.vector(255,0,0),# 火星の色情報　赤\n",
    "                 pos=vs.vector(0,-20,0), #火星の最初の座標\n",
    "                 size=vs.vector(l,h, w),#火星のサイズ\n",
    "#                  axis=vs.vector(l, 0, 0)\n",
    "                 )\n",
    "    \n",
    "    \n",
    "\n",
    "    \n",
    "\n",
    "    v1 = np.array([0,0,0])     # 太陽の初速度ベクトル\n",
    "    v2 = np.array([0.25,0,0])   #地球の初速度ベクトル\n",
    "    v3 =  np.array([-0.15,0,0])  #火星の初速度ベクトル\n",
    "    \n",
    "    \n",
    "    \n",
    "    M1 = 100#恒星の質量\n",
    "    M2 =  2 #惑星の質量\n",
    "    M3 = 0.3# 火星の質量\n",
    "    while True:\n",
    "       \n",
    "        # フレームレート\n",
    "        vs.rate(30)\n",
    "        #ベクトルｒの計算（地球の座標　ー　太陽の座標）\n",
    "        vec12x = s2.pos.x - s1.pos.x       # \n",
    "        vec12y = s2.pos.y - s1.pos.y\n",
    "        vec12z = s2.pos.z - s1.pos.z        \n",
    "        r12  = np.sqrt ( vec12x*vec12x + vec12y* vec12y +  vec12z * vec12z)\n",
    "        F12 = 0.01* np.array([( M1 * M2 * vec12x )/(r12**3)  ,( M1 * M2 * vec12y )/(r12**3) ,( M1 * M2 * vec12z )/(r12**3)]) \n",
    "        F21 = - F12\n",
    "        \n",
    "        \n",
    "        vec13x = s3.pos.x - s1.pos.x       # \n",
    "        vec13y = s3.pos.y - s1.pos.y\n",
    "        vec13z = s3.pos.z - s1.pos.z        \n",
    "        r13  = np.sqrt ( vec13x*vec13x + vec13y* vec13y +  vec13z * vec13z)\n",
    "        F13 = 0.01* np.array([( M1 * M3 * vec13x )/(r13**3)  ,( M1 * M3 * vec13y )/(r13**3) ,( M1 * M3 * vec13z )/(r13**3)]) \n",
    "        F31 = - F13\n",
    "        \n",
    "        vec23x = s3.pos.x - s2.pos.x       # \n",
    "        vec23y = s3.pos.y - s2.pos.y\n",
    "        vec23z = s3.pos.z - s2.pos.z        \n",
    "        r23  = np.sqrt ( vec23x*vec23x + vec23y* vec23y +  vec23z * vec23z)\n",
    "        F23 = 0.01* np.array([( M2 * M3 * vec23x )/(r23**3)  ,( M2 * M3 * vec23y )/(r23**3) ,( M2 * M3 * vec23z )/(r23**3)]) \n",
    "        F32 = - F23\n",
    "        \n",
    "        \n",
    "        \n",
    "        \n",
    "        ### 万有引力定数は０．０１にしました。めちゃくちゃですが。#\n",
    "        # ベクトルＦの計算をしています。\n",
    "        \n",
    "        dv1dt = (F12 + F13)/M1 #恒星の加速度ベクトル\n",
    "        \n",
    "        \n",
    "        dv2dt = (F21 + F23)/ M2 #惑星の加速度ベクトル    ######## 太陽　地球　の作用反作用。　反作用だから、マイナス\n",
    "        \n",
    "        dv3dt = (F31 +F32) /M3\n",
    "        \n",
    "        \n",
    "        \n",
    "        \n",
    "        v1 = v1 + dv1dt#####衛星の速度ベクトルに加速度ベクトル＊ｄｔを加えて更新    #オイラー法　v =v+dvdt* dt の＊ｄｔは省略\n",
    "        v2 = v2 +  dv2dt#####惑星星の速度ベクトルに加速度ベクトル＊ｄｔを加えて更新　\n",
    "        \n",
    "        v3 = v3+  dv3dt\n",
    "        \n",
    "        s1.pos = vs.vector(s1.pos.x + v1[0],s1.pos.y + v1[1] , s1.pos.z + v1[2] )\n",
    "        ####衛星の座標ベクトルに速度ベクトル＊ｄｔを加えて更新    #オイラー法　ｘ =ｘ+　vdt* dt の＊ｄｔは省略\n",
    "        s2.pos = vs.vector(s2.pos.x + v2[0],s2.pos.y + v2[1] , s2.pos.z + v2[2] )\n",
    "        ####惑星の座標ベクトルに速度ベクトル＊ｄｔを加えて更新    #オイラー法　ｘ =ｘ+　vdt* dt の＊ｄｔは省略\n",
    "        s3.pos = vs.vector(s3.pos.x + v3[0],s3.pos.y + v3[1] , s3.pos.z + v3[2] )\n",
    "\n",
    "        \n",
    "#         print(s1.pos)\n",
    "       \n",
    "if __name__ == '__main__':\n",
    "    main()"
   ]
  },
  {
   "cell_type": "code",
   "execution_count": null,
   "id": "46688bb1",
   "metadata": {},
   "outputs": [],
   "source": []
  }
 ],
 "metadata": {
  "kernelspec": {
   "display_name": "Python 3 (ipykernel)",
   "language": "python",
   "name": "python3"
  },
  "language_info": {
   "codemirror_mode": {
    "name": "ipython",
    "version": 3
   },
   "file_extension": ".py",
   "mimetype": "text/x-python",
   "name": "python",
   "nbconvert_exporter": "python",
   "pygments_lexer": "ipython3",
   "version": "3.9.13"
  }
 },
 "nbformat": 4,
 "nbformat_minor": 5
}
